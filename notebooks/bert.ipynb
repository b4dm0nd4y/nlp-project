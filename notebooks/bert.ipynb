{
 "cells": [
  {
   "cell_type": "code",
   "execution_count": 1,
   "id": "545b1e37",
   "metadata": {},
   "outputs": [],
   "source": [
    "import pandas as pd\n",
    "import numpy as np\n",
    "import matplotlib.pyplot as plt\n",
    "import seaborn as sns\n",
    "\n",
    "import torch\n",
    "import torch.nn as nn\n",
    "from torch.utils.data import Dataset, DataLoader\n",
    "from transformers import AutoTokenizer, AutoModel\n",
    "\n",
    "from sklearn.model_selection import train_test_split\n",
    "from sklearn.metrics import f1_score, confusion_matrix"
   ]
  },
  {
   "cell_type": "code",
   "execution_count": 2,
   "id": "b83da7e0",
   "metadata": {},
   "outputs": [],
   "source": [
    "SEQ_LEN = 512\n",
    "BATCH_SIZE = 256\n",
    "DEVICE = 'cuda'\n",
    "RUBERT_OUT = 312\n",
    "TEST_SIZE = 0.1\n",
    "EPOCHS = 20"
   ]
  },
  {
   "cell_type": "code",
   "execution_count": 3,
   "id": "57e40782",
   "metadata": {},
   "outputs": [],
   "source": [
    "class TextClassificationDataset(Dataset):\n",
    "    def __init__(self, df, tokenizer, max_length=SEQ_LEN):\n",
    "        self.texts = df['clean_content'].to_list()\n",
    "        self.targets = df['sentiment'].to_list()  #encoded\n",
    "        self.tokenizer = tokenizer\n",
    "        self.max_length = max_length\n",
    "        \n",
    "    def __len__(self):\n",
    "        return len(self.texts)\n",
    "    \n",
    "    def __getitem__(self, idx):\n",
    "        encoding = self.tokenizer(\n",
    "            self.texts[idx],\n",
    "            padding='max_length',\n",
    "            truncation=True,\n",
    "            max_length=self.max_length,\n",
    "            return_tensors='pt'\n",
    "        )\n",
    "        \n",
    "        item = {k:v.squeeze(0) for k,v in encoding.items()}\n",
    "        item['labels'] = torch.tensor(self.targets[idx], dtype=torch.long)\n",
    "        \n",
    "        return item"
   ]
  },
  {
   "cell_type": "code",
   "execution_count": 4,
   "id": "3fead4b1",
   "metadata": {},
   "outputs": [],
   "source": [
    "class MyTinyBERT(nn.Module):\n",
    "    def __init__(self, n_classes):\n",
    "        super().__init__()\n",
    "        self.bert = AutoModel.from_pretrained(\n",
    "            'cointegrated/rubert-tiny2'\n",
    "        )\n",
    "        \n",
    "        for name, param in self.bert.named_parameters():\n",
    "            if 'encoder.layer.10' in name or 'encoder.layer.11' in name:\n",
    "                param.requires_grad=True\n",
    "            else:\n",
    "                param.requires_grad=False\n",
    "                \n",
    "        self.norm = nn.LayerNorm(RUBERT_OUT)\n",
    "        self.linear = nn.Sequential(\n",
    "            nn.Linear(RUBERT_OUT, RUBERT_OUT),\n",
    "            nn.GELU(),\n",
    "            nn.Dropout(0.3),\n",
    "            nn.Linear(RUBERT_OUT, RUBERT_OUT//2),\n",
    "            nn.GELU(),\n",
    "            nn.Dropout(0.3),\n",
    "            nn.Linear(RUBERT_OUT//2, n_classes)\n",
    "        )\n",
    "        \n",
    "    def mean_pooling(self, model_output, attention_mask):\n",
    "        token_embedings = model_output.last_hidden_state # [b:t:h]\n",
    "        input_mask_expanded = attention_mask.unsqueeze(-1).expand(\n",
    "            token_embedings.size()\n",
    "        )\n",
    "        sum_embeddings = torch.sum(\n",
    "            token_embedings * input_mask_expanded, dim=1\n",
    "        )\n",
    "        sum_mask = input_mask_expanded.sum(dim=1).clamp(min=1e-9)\n",
    "        \n",
    "        return sum_embeddings / sum_mask\n",
    "    \n",
    "    def forward(self, x):\n",
    "        bert_out = self.bert(\n",
    "            input_ids=x['input_ids'],\n",
    "            attention_mask=x['attention_mask']\n",
    "        )\n",
    "        \n",
    "        pooled=self.mean_pooling(bert_out, x['attention_mask'])\n",
    "        pooled=self.norm(pooled)\n",
    "        out=self.linear(pooled)\n",
    "        \n",
    "        return out"
   ]
  },
  {
   "cell_type": "code",
   "execution_count": 5,
   "id": "2b5e6035",
   "metadata": {},
   "outputs": [],
   "source": [
    "df = pd.read_csv('../data/cleaned_df.csv')\n",
    "df.drop(columns=['Unnamed: 0', 'review_id'], inplace=True)"
   ]
  },
  {
   "cell_type": "code",
   "execution_count": 6,
   "id": "abf09311",
   "metadata": {},
   "outputs": [
    {
     "data": {
      "text/html": [
       "<div>\n",
       "<style scoped>\n",
       "    .dataframe tbody tr th:only-of-type {\n",
       "        vertical-align: middle;\n",
       "    }\n",
       "\n",
       "    .dataframe tbody tr th {\n",
       "        vertical-align: top;\n",
       "    }\n",
       "\n",
       "    .dataframe thead th {\n",
       "        text-align: right;\n",
       "    }\n",
       "</style>\n",
       "<table border=\"1\" class=\"dataframe\">\n",
       "  <thead>\n",
       "    <tr style=\"text-align: right;\">\n",
       "      <th></th>\n",
       "      <th>category</th>\n",
       "      <th>title</th>\n",
       "      <th>content</th>\n",
       "      <th>sentiment</th>\n",
       "      <th>source_url</th>\n",
       "      <th>clean_content</th>\n",
       "    </tr>\n",
       "  </thead>\n",
       "  <tbody>\n",
       "    <tr>\n",
       "      <th>0</th>\n",
       "      <td>Поликлиники стоматологические</td>\n",
       "      <td>Классный мастер</td>\n",
       "      <td>Огромное спасибо за чудесное удаление двух зуб...</td>\n",
       "      <td>positive</td>\n",
       "      <td>http://www.spr.ru/forum_vyvod.php?id_tema=2727539</td>\n",
       "      <td>огромный спасибо чудесный удаление зуб мудрост...</td>\n",
       "    </tr>\n",
       "    <tr>\n",
       "      <th>1</th>\n",
       "      <td>Поликлиники стоматологические</td>\n",
       "      <td>Замечательный врач</td>\n",
       "      <td>Хочу выразить особую благодарность замечательн...</td>\n",
       "      <td>positive</td>\n",
       "      <td>http://www.spr.ru/forum_vyvod.php?id_tema=2302877</td>\n",
       "      <td>хотеть выразить особый благодарность замечател...</td>\n",
       "    </tr>\n",
       "    <tr>\n",
       "      <th>2</th>\n",
       "      <td>Поликлиники стоматологические</td>\n",
       "      <td>Благодарность работникам рентгена</td>\n",
       "      <td>Добрый вечер! Хотелось бы поблагодарить сотруд...</td>\n",
       "      <td>positive</td>\n",
       "      <td>http://www.spr.ru/forum_vyvod.php?id_tema=2815031</td>\n",
       "      <td>добрый вечер хотеться поблагодарить сотрудник ...</td>\n",
       "    </tr>\n",
       "    <tr>\n",
       "      <th>3</th>\n",
       "      <td>Поликлиники стоматологические</td>\n",
       "      <td>Доктор Рабинович</td>\n",
       "      <td>Женщины советского образца в регистратуре не и...</td>\n",
       "      <td>negative</td>\n",
       "      <td>http://www.spr.ru/forum_vyvod.php?id_tema=3443161</td>\n",
       "      <td>женщина советский образец регистратура не имет...</td>\n",
       "    </tr>\n",
       "    <tr>\n",
       "      <th>4</th>\n",
       "      <td>Поликлиники стоматологические</td>\n",
       "      <td>Есть кому сказать спасибо</td>\n",
       "      <td>У меня с детства очень плохие зубы (тонкая и х...</td>\n",
       "      <td>positive</td>\n",
       "      <td>http://www.spr.ru/forum_vyvod.php?id_tema=2592430</td>\n",
       "      <td>детство очень плохой зуб тонкий хрупкий эмаль ...</td>\n",
       "    </tr>\n",
       "  </tbody>\n",
       "</table>\n",
       "</div>"
      ],
      "text/plain": [
       "                        category                              title  \\\n",
       "0  Поликлиники стоматологические                    Классный мастер   \n",
       "1  Поликлиники стоматологические                 Замечательный врач   \n",
       "2  Поликлиники стоматологические  Благодарность работникам рентгена   \n",
       "3  Поликлиники стоматологические                   Доктор Рабинович   \n",
       "4  Поликлиники стоматологические          Есть кому сказать спасибо   \n",
       "\n",
       "                                             content sentiment  \\\n",
       "0  Огромное спасибо за чудесное удаление двух зуб...  positive   \n",
       "1  Хочу выразить особую благодарность замечательн...  positive   \n",
       "2  Добрый вечер! Хотелось бы поблагодарить сотруд...  positive   \n",
       "3  Женщины советского образца в регистратуре не и...  negative   \n",
       "4  У меня с детства очень плохие зубы (тонкая и х...  positive   \n",
       "\n",
       "                                          source_url  \\\n",
       "0  http://www.spr.ru/forum_vyvod.php?id_tema=2727539   \n",
       "1  http://www.spr.ru/forum_vyvod.php?id_tema=2302877   \n",
       "2  http://www.spr.ru/forum_vyvod.php?id_tema=2815031   \n",
       "3  http://www.spr.ru/forum_vyvod.php?id_tema=3443161   \n",
       "4  http://www.spr.ru/forum_vyvod.php?id_tema=2592430   \n",
       "\n",
       "                                       clean_content  \n",
       "0  огромный спасибо чудесный удаление зуб мудрост...  \n",
       "1  хотеть выразить особый благодарность замечател...  \n",
       "2  добрый вечер хотеться поблагодарить сотрудник ...  \n",
       "3  женщина советский образец регистратура не имет...  \n",
       "4  детство очень плохой зуб тонкий хрупкий эмаль ...  "
      ]
     },
     "execution_count": 6,
     "metadata": {},
     "output_type": "execute_result"
    }
   ],
   "source": [
    "df.head()"
   ]
  },
  {
   "cell_type": "code",
   "execution_count": 7,
   "id": "1089258c",
   "metadata": {},
   "outputs": [],
   "source": [
    "df['content_len'] = df['clean_content'].apply(lambda x: len(x))"
   ]
  },
  {
   "cell_type": "code",
   "execution_count": 8,
   "id": "0b94cd70",
   "metadata": {},
   "outputs": [
    {
     "data": {
      "text/plain": [
       "count    70597.000000\n",
       "mean       463.906002\n",
       "std        435.466465\n",
       "min          7.000000\n",
       "25%        205.000000\n",
       "50%        336.000000\n",
       "75%        561.000000\n",
       "max       4088.000000\n",
       "Name: content_len, dtype: float64"
      ]
     },
     "execution_count": 8,
     "metadata": {},
     "output_type": "execute_result"
    }
   ],
   "source": [
    "df['content_len'].describe()"
   ]
  },
  {
   "cell_type": "code",
   "execution_count": 9,
   "id": "a13d0ada",
   "metadata": {},
   "outputs": [],
   "source": [
    "tokenizer = AutoTokenizer.from_pretrained('cointegrated/rubert-tiny2')"
   ]
  },
  {
   "cell_type": "code",
   "execution_count": 10,
   "id": "3a32ec08",
   "metadata": {
    "vscode": {
     "languageId": "javascript"
    }
   },
   "outputs": [],
   "source": [
    "encoder = {\n",
    "    'negative':0,\n",
    "    'positive':1\n",
    "}\n",
    "\n",
    "X = df.loc[:, 'clean_content']\n",
    "y = df.loc[:, 'sentiment'].map(encoder)"
   ]
  },
  {
   "cell_type": "code",
   "execution_count": 11,
   "id": "7d1dcb2f",
   "metadata": {},
   "outputs": [],
   "source": [
    "X_train, X_test, y_train, y_test = train_test_split(\n",
    "    X, y,\n",
    "    test_size=TEST_SIZE,\n",
    "    stratify=y,\n",
    "    random_state=13\n",
    ")"
   ]
  },
  {
   "cell_type": "code",
   "execution_count": 12,
   "id": "d513e5bd",
   "metadata": {},
   "outputs": [],
   "source": [
    "train_df = pd.concat([X_train, y_train], axis=1)\n",
    "valid_df = pd.concat([X_test, y_test], axis=1)"
   ]
  },
  {
   "cell_type": "code",
   "execution_count": 13,
   "id": "da70bf6f",
   "metadata": {},
   "outputs": [],
   "source": [
    "train_ds = TextClassificationDataset(train_df, tokenizer)\n",
    "val_ds = TextClassificationDataset(valid_df, tokenizer)"
   ]
  },
  {
   "cell_type": "code",
   "execution_count": 14,
   "id": "81bd1a2b",
   "metadata": {},
   "outputs": [],
   "source": [
    "train_loader = DataLoader(train_ds, batch_size=BATCH_SIZE, shuffle=True)\n",
    "val_loader = DataLoader(val_ds, batch_size=BATCH_SIZE)"
   ]
  },
  {
   "cell_type": "code",
   "execution_count": 15,
   "id": "252e372a",
   "metadata": {},
   "outputs": [
    {
     "data": {
      "text/plain": [
       "{'input_ids': tensor([[    2, 27211, 13949,  ...,     0,     0,     0],\n",
       "         [    2, 33020, 13114,  ...,     0,     0,     0],\n",
       "         [    2, 53369, 33904,  ...,     0,     0,     0],\n",
       "         ...,\n",
       "         [    2, 31925,  1614,  ...,     0,     0,     0],\n",
       "         [    2, 40096,   656,  ...,     0,     0,     0],\n",
       "         [    2, 23016, 38638,  ...,     0,     0,     0]]),\n",
       " 'token_type_ids': tensor([[0, 0, 0,  ..., 0, 0, 0],\n",
       "         [0, 0, 0,  ..., 0, 0, 0],\n",
       "         [0, 0, 0,  ..., 0, 0, 0],\n",
       "         ...,\n",
       "         [0, 0, 0,  ..., 0, 0, 0],\n",
       "         [0, 0, 0,  ..., 0, 0, 0],\n",
       "         [0, 0, 0,  ..., 0, 0, 0]]),\n",
       " 'attention_mask': tensor([[1, 1, 1,  ..., 0, 0, 0],\n",
       "         [1, 1, 1,  ..., 0, 0, 0],\n",
       "         [1, 1, 1,  ..., 0, 0, 0],\n",
       "         ...,\n",
       "         [1, 1, 1,  ..., 0, 0, 0],\n",
       "         [1, 1, 1,  ..., 0, 0, 0],\n",
       "         [1, 1, 1,  ..., 0, 0, 0]]),\n",
       " 'labels': tensor([1, 1, 0, 1, 1, 0, 1, 1, 0, 1, 1, 1, 0, 0, 1, 1, 0, 1, 0, 1, 1, 0, 0, 1,\n",
       "         0, 0, 1, 0, 1, 0, 1, 1, 1, 1, 0, 0, 1, 0, 1, 1, 1, 1, 0, 0, 1, 0, 0, 1,\n",
       "         0, 0, 0, 1, 1, 0, 0, 1, 1, 1, 1, 1, 0, 0, 1, 0, 0, 0, 0, 1, 1, 1, 1, 1,\n",
       "         0, 1, 0, 1, 0, 1, 1, 0, 1, 1, 0, 0, 0, 0, 0, 0, 1, 0, 1, 0, 0, 0, 1, 0,\n",
       "         0, 1, 1, 0, 1, 0, 1, 1, 1, 0, 1, 0, 1, 1, 0, 1, 0, 0, 1, 0, 1, 1, 0, 0,\n",
       "         1, 1, 1, 1, 1, 0, 1, 1, 0, 1, 1, 1, 1, 1, 1, 1, 0, 0, 1, 0, 1, 1, 0, 1,\n",
       "         1, 1, 0, 1, 1, 0, 0, 1, 1, 0, 0, 1, 0, 1, 1, 0, 1, 0, 0, 1, 0, 1, 0, 0,\n",
       "         1, 0, 1, 0, 0, 0, 0, 0, 0, 0, 1, 1, 1, 0, 0, 0, 0, 1, 1, 0, 1, 1, 0, 1,\n",
       "         0, 1, 0, 0, 1, 0, 0, 1, 1, 1, 1, 1, 1, 1, 1, 1, 0, 1, 0, 1, 1, 0, 0, 0,\n",
       "         1, 1, 1, 1, 1, 0, 1, 1, 0, 1, 1, 0, 1, 1, 0, 1, 1, 0, 0, 0, 0, 0, 1, 1,\n",
       "         0, 0, 0, 1, 0, 0, 0, 0, 1, 0, 1, 0, 1, 0, 1, 0])}"
      ]
     },
     "execution_count": 15,
     "metadata": {},
     "output_type": "execute_result"
    }
   ],
   "source": [
    "sample_batch = next(iter(train_loader))\n",
    "sample_batch"
   ]
  },
  {
   "cell_type": "code",
   "execution_count": 16,
   "id": "0c86c03e",
   "metadata": {},
   "outputs": [],
   "source": [
    "model = MyTinyBERT(n_classes=df[\"sentiment\"].nunique()).to(DEVICE)\n",
    "optimizer = torch.optim.Adam(model.linear.parameters(), lr=1e-3)\n",
    "criterion = nn.CrossEntropyLoss()"
   ]
  },
  {
   "cell_type": "code",
   "execution_count": 19,
   "id": "a6a26408",
   "metadata": {},
   "outputs": [],
   "source": [
    "best_val_loss = 0.1863"
   ]
  },
  {
   "cell_type": "code",
   "execution_count": 18,
   "id": "049d4a18",
   "metadata": {},
   "outputs": [
    {
     "name": "stdout",
     "output_type": "stream",
     "text": [
      "Epoch 1/20 | Train Loss: 0.2609, Train Acc: 0.8932 | Val Loss: 0.2253, Val Acc: 0.9106\n",
      "Epoch 2/20 | Train Loss: 0.2300, Train Acc: 0.9077 | Val Loss: 0.2037, Val Acc: 0.9210\n",
      "Epoch 3/20 | Train Loss: 0.2222, Train Acc: 0.9115 | Val Loss: 0.1969, Val Acc: 0.9246\n",
      "Epoch 4/20 | Train Loss: 0.2147, Train Acc: 0.9150 | Val Loss: 0.2029, Val Acc: 0.9201\n",
      "Epoch 5/20 | Train Loss: 0.2112, Train Acc: 0.9163 | Val Loss: 0.2156, Val Acc: 0.9153\n",
      "Epoch 6/20 | Train Loss: 0.2077, Train Acc: 0.9184 | Val Loss: 0.1963, Val Acc: 0.9242\n",
      "Epoch 7/20 | Train Loss: 0.2042, Train Acc: 0.9192 | Val Loss: 0.1916, Val Acc: 0.9266\n",
      "Epoch 8/20 | Train Loss: 0.2000, Train Acc: 0.9223 | Val Loss: 0.1951, Val Acc: 0.9207\n",
      "Epoch 9/20 | Train Loss: 0.1965, Train Acc: 0.9234 | Val Loss: 0.1973, Val Acc: 0.9205\n",
      "Epoch 10/20 | Train Loss: 0.1962, Train Acc: 0.9226 | Val Loss: 0.1870, Val Acc: 0.9249\n",
      "Epoch 11/20 | Train Loss: 0.1920, Train Acc: 0.9248 | Val Loss: 0.1863, Val Acc: 0.9278\n",
      "Epoch 12/20 | Train Loss: 0.1895, Train Acc: 0.9254 | Val Loss: 0.1922, Val Acc: 0.9254\n",
      "Epoch 13/20 | Train Loss: 0.1872, Train Acc: 0.9263 | Val Loss: 0.1903, Val Acc: 0.9252\n",
      "Epoch 14/20 | Train Loss: 0.1854, Train Acc: 0.9267 | Val Loss: 0.1929, Val Acc: 0.9244\n",
      "Epoch 15/20 | Train Loss: 0.1831, Train Acc: 0.9277 | Val Loss: 0.1940, Val Acc: 0.9221\n",
      "Epoch 16/20 | Train Loss: 0.1807, Train Acc: 0.9289 | Val Loss: 0.1884, Val Acc: 0.9289\n",
      "Epoch 17/20 | Train Loss: 0.1775, Train Acc: 0.9293 | Val Loss: 0.1882, Val Acc: 0.9279\n",
      "Epoch 18/20 | Train Loss: 0.1757, Train Acc: 0.9316 | Val Loss: 0.1919, Val Acc: 0.9261\n",
      "Epoch 19/20 | Train Loss: 0.1733, Train Acc: 0.9324 | Val Loss: 0.1944, Val Acc: 0.9272\n",
      "Epoch 20/20 | Train Loss: 0.1727, Train Acc: 0.9320 | Val Loss: 0.2000, Val Acc: 0.9245\n"
     ]
    }
   ],
   "source": [
    "for epoch in range(EPOCHS):\n",
    "    model.train()\n",
    "    total_loss = 0\n",
    "    correct = 0\n",
    "    total = 0\n",
    "    \n",
    "    for batch in train_loader:\n",
    "        labels = batch.pop('labels').to(DEVICE)\n",
    "        batch = {k:v.to(DEVICE) for k,v in batch.items()}\n",
    "        \n",
    "        logits = model(batch)\n",
    "        loss = criterion(logits, labels)\n",
    "        \n",
    "        optimizer.zero_grad()\n",
    "        loss.backward()\n",
    "        optimizer.step()\n",
    "        \n",
    "        total_loss += loss.item() * labels.size(0)\n",
    "        preds = logits.argmax(dim=1)\n",
    "        correct += (preds == labels).sum().item()\n",
    "        total += labels.size(0)\n",
    "        \n",
    "    avg_loss = total_loss / total\n",
    "    train_acc = correct / total\n",
    "    \n",
    "    \n",
    "    model.eval()\n",
    "    val_loss = 0\n",
    "    val_correct = 0\n",
    "    val_total = 0\n",
    "    with torch.no_grad():\n",
    "        for batch in val_loader:\n",
    "            labels = batch.pop('labels').to(DEVICE)\n",
    "            batch = {k:v.to(DEVICE) for k,v in batch.items()}\n",
    "            \n",
    "            logits = model(batch)\n",
    "            loss = criterion(logits, labels)\n",
    "            \n",
    "            val_loss += loss.item() * labels.size(0)\n",
    "            preds = logits.argmax(dim=1)\n",
    "            val_correct += (preds == labels).sum().item()\n",
    "            val_total += labels.size(0)\n",
    "            \n",
    "    avg_val_loss = val_loss / val_total\n",
    "    val_acc = val_correct / val_total\n",
    "    \n",
    "    \n",
    "    print(\n",
    "        f\"Epoch {epoch+1}/{EPOCHS} | \"\n",
    "        f\"Train Loss: {avg_loss:.4f}, Train Acc: {train_acc:.4f} | \"\n",
    "        f\"Val Loss: {avg_val_loss:.4f}, Val Acc: {val_acc:.4f}\"\n",
    "    )\n",
    "    \n",
    "    \n",
    "    if avg_val_loss < best_val_loss:\n",
    "        best_val_loss = avg_val_loss\n",
    "        torch.save(model, f'bert_best_{avg_val_loss:.2f}.pt')\n",
    "        torch.save(model.state_dict(), f'bert_best_{avg_val_loss:.2f}.pth')\n",
    "            "
   ]
  },
  {
   "cell_type": "code",
   "execution_count": 20,
   "id": "686cc4bf",
   "metadata": {},
   "outputs": [],
   "source": [
    "preds = []\n",
    "for batch in val_loader:\n",
    "    with torch.inference_mode():\n",
    "        labels = batch.pop(\"labels\").to(DEVICE)\n",
    "        batch = {k:v.to(DEVICE) for k,v in batch.items()}\n",
    "        logits = model(batch)\n",
    "    preds.extend(logits.cpu().numpy())"
   ]
  },
  {
   "cell_type": "code",
   "execution_count": 21,
   "id": "72738e14",
   "metadata": {},
   "outputs": [],
   "source": [
    "y_hat = [x.argmax() for x in preds]"
   ]
  },
  {
   "cell_type": "code",
   "execution_count": 22,
   "id": "1bd7b9bb",
   "metadata": {},
   "outputs": [],
   "source": [
    "metric_df = valid_df\n",
    "metric_df['predicts'] = y_hat"
   ]
  },
  {
   "cell_type": "code",
   "execution_count": 25,
   "id": "83087d87",
   "metadata": {},
   "outputs": [],
   "source": [
    "decoder = {\n",
    "    0: 'negative',\n",
    "    1: 'positive'\n",
    "}"
   ]
  },
  {
   "cell_type": "code",
   "execution_count": 28,
   "id": "f94f811e",
   "metadata": {},
   "outputs": [
    {
     "data": {
      "image/png": "[encoded data removed]",
      "text/plain": [
       "<Figure size 1600x800 with 3 Axes>"
      ]
     },
     "metadata": {},
     "output_type": "display_data"
    }
   ],
   "source": [
    "models = {\n",
    "    \"BERT (fine-tune)\": model,\n",
    "}\n",
    "\n",
    "# Prepare plots\n",
    "fig, axes = plt.subplots(1, 2, figsize=(16, 8))\n",
    "axes = axes.ravel()\n",
    "\n",
    "# Class labels (human-readable)\n",
    "class_labels = [decoder[i] for i in sorted(decoder.keys())]\n",
    "\n",
    "for idx, (name, model) in enumerate(models.items()):\n",
    "    # Predict class labels\n",
    "    y_test = metric_df['sentiment'].to_numpy()\n",
    "    y_pred = metric_df['predicts'].to_numpy()\n",
    "\n",
    "    # Compute macro F1-score and per-class F1\n",
    "    f1 = f1_score(y_test, y_pred, average='macro')\n",
    "    f1_per_class = f1_score(y_test, y_pred, average=None)\n",
    "\n",
    "    # Bar chart for per-class F1-scores\n",
    "    axes[idx].bar(np.arange(len(f1_per_class)), f1_per_class, tick_label=class_labels)\n",
    "    axes[idx].set_title(f'{name} - F1 Score per Class\\n(Macro Avg F1: {f1:.2f})')\n",
    "    axes[idx].set_xlabel('Class')\n",
    "    axes[idx].set_ylabel('F1 Score')\n",
    "    axes[idx].set_ylim(0, 1)\n",
    "    axes[idx].tick_params(axis='x', rotation=90)\n",
    "    axes[idx].grid(True)\n",
    "\n",
    "    # Confusion matrix\n",
    "    cm = confusion_matrix(y_test, y_pred)\n",
    "    sns.heatmap(cm, annot=True, fmt='d', cmap='Blues', ax=axes[idx + 1],\n",
    "                xticklabels=class_labels, yticklabels=class_labels)\n",
    "    axes[idx + 1].set_title(f'{name} - Confusion Matrix')\n",
    "    axes[idx + 1].set_xlabel('Predicted')\n",
    "    axes[idx + 1].set_ylabel('True')\n",
    "    axes[idx + 1].tick_params(axis='x', rotation=45)\n",
    "    axes[idx + 1].tick_params(axis='y', rotation=0)\n",
    "\n",
    "plt.tight_layout()\n",
    "plt.show()"
   ]
  },
  {
   "cell_type": "code",
   "execution_count": null,
   "id": "821ea674",
   "metadata": {},
   "outputs": [],
   "source": [
    "train_df['content']"
   ]
  }
 ],
 "metadata": {
  "kernelspec": {
   "display_name": ".venv",
   "language": "python",
   "name": "python3"
  },
  "language_info": {
   "codemirror_mode": {
    "name": "ipython",
    "version": 3
   },
   "file_extension": ".py",
   "mimetype": "text/x-python",
   "name": "python",
   "nbconvert_exporter": "python",
   "pygments_lexer": "ipython3",
   "version": "3.13.3"
  }
 },
 "nbformat": 4,
 "nbformat_minor": 5
}
