{
 "cells": [
  {
   "cell_type": "code",
   "execution_count": 217,
   "id": "922f3cd5",
   "metadata": {},
   "outputs": [
    {
     "ename": "JSONDecodeError",
     "evalue": "Expecting ':' delimiter: line 1 column 566745 (char 566744)",
     "output_type": "error",
     "traceback": [
      "\u001b[31m---------------------------------------------------------------------------\u001b[39m",
      "\u001b[31mJSONDecodeError\u001b[39m                           Traceback (most recent call last)",
      "\u001b[36mCell\u001b[39m\u001b[36m \u001b[39m\u001b[32mIn[217]\u001b[39m\u001b[32m, line 29\u001b[39m\n\u001b[32m     27\u001b[39m \u001b[38;5;28;01mimport\u001b[39;00m\u001b[38;5;250m \u001b[39m\u001b[34;01msys\u001b[39;00m\n\u001b[32m     28\u001b[39m sys.path.append(\u001b[33m\"\u001b[39m\u001b[33m../src/\u001b[39m\u001b[33m\"\u001b[39m)\n\u001b[32m---> \u001b[39m\u001b[32m29\u001b[39m \u001b[38;5;28;01mfrom\u001b[39;00m\u001b[38;5;250m \u001b[39m\u001b[34;01mltsm_helper\u001b[39;00m\u001b[38;5;250m \u001b[39m\u001b[38;5;28;01mimport\u001b[39;00m tokenize_text\n",
      "\u001b[36mFile \u001b[39m\u001b[32m~/bootcamp/ds-phase-2/nlp-project/notebooks/../src/ltsm_helper.py:85\u001b[39m\n\u001b[32m     81\u001b[39m     \u001b[38;5;28;01mreturn\u001b[39;00m padded\n\u001b[32m     84\u001b[39m f = \u001b[38;5;28mopen\u001b[39m(\u001b[33m'\u001b[39m\u001b[33m../data/vocab2int.json\u001b[39m\u001b[33m'\u001b[39m, \u001b[33m'\u001b[39m\u001b[33mr\u001b[39m\u001b[33m'\u001b[39m)\n\u001b[32m---> \u001b[39m\u001b[32m85\u001b[39m vocab2int = \u001b[43mjson\u001b[49m\u001b[43m.\u001b[49m\u001b[43mload\u001b[49m\u001b[43m(\u001b[49m\u001b[43mf\u001b[49m\u001b[43m)\u001b[49m \n\u001b[32m     86\u001b[39m VOCAB_SIZE = \u001b[38;5;28mlen\u001b[39m(vocab2int) + \u001b[32m1\u001b[39m\n\u001b[32m     88\u001b[39m wv = gensim.models.Word2Vec.load(\u001b[33m\"\u001b[39m\u001b[33m../models/word2vec_model\u001b[39m\u001b[33m\"\u001b[39m)\n",
      "\u001b[36mFile \u001b[39m\u001b[32m~/miniforge3/lib/python3.12/json/__init__.py:293\u001b[39m, in \u001b[36mload\u001b[39m\u001b[34m(fp, cls, object_hook, parse_float, parse_int, parse_constant, object_pairs_hook, **kw)\u001b[39m\n\u001b[32m    274\u001b[39m \u001b[38;5;28;01mdef\u001b[39;00m\u001b[38;5;250m \u001b[39m\u001b[34mload\u001b[39m(fp, *, \u001b[38;5;28mcls\u001b[39m=\u001b[38;5;28;01mNone\u001b[39;00m, object_hook=\u001b[38;5;28;01mNone\u001b[39;00m, parse_float=\u001b[38;5;28;01mNone\u001b[39;00m,\n\u001b[32m    275\u001b[39m         parse_int=\u001b[38;5;28;01mNone\u001b[39;00m, parse_constant=\u001b[38;5;28;01mNone\u001b[39;00m, object_pairs_hook=\u001b[38;5;28;01mNone\u001b[39;00m, **kw):\n\u001b[32m    276\u001b[39m \u001b[38;5;250m    \u001b[39m\u001b[33;03m\"\"\"Deserialize ``fp`` (a ``.read()``-supporting file-like object containing\u001b[39;00m\n\u001b[32m    277\u001b[39m \u001b[33;03m    a JSON document) to a Python object.\u001b[39;00m\n\u001b[32m    278\u001b[39m \n\u001b[32m   (...)\u001b[39m\u001b[32m    291\u001b[39m \u001b[33;03m    kwarg; otherwise ``JSONDecoder`` is used.\u001b[39;00m\n\u001b[32m    292\u001b[39m \u001b[33;03m    \"\"\"\u001b[39;00m\n\u001b[32m--> \u001b[39m\u001b[32m293\u001b[39m     \u001b[38;5;28;01mreturn\u001b[39;00m \u001b[43mloads\u001b[49m\u001b[43m(\u001b[49m\u001b[43mfp\u001b[49m\u001b[43m.\u001b[49m\u001b[43mread\u001b[49m\u001b[43m(\u001b[49m\u001b[43m)\u001b[49m\u001b[43m,\u001b[49m\n\u001b[32m    294\u001b[39m \u001b[43m        \u001b[49m\u001b[38;5;28;43mcls\u001b[39;49m\u001b[43m=\u001b[49m\u001b[38;5;28;43mcls\u001b[39;49m\u001b[43m,\u001b[49m\u001b[43m \u001b[49m\u001b[43mobject_hook\u001b[49m\u001b[43m=\u001b[49m\u001b[43mobject_hook\u001b[49m\u001b[43m,\u001b[49m\n\u001b[32m    295\u001b[39m \u001b[43m        \u001b[49m\u001b[43mparse_float\u001b[49m\u001b[43m=\u001b[49m\u001b[43mparse_float\u001b[49m\u001b[43m,\u001b[49m\u001b[43m \u001b[49m\u001b[43mparse_int\u001b[49m\u001b[43m=\u001b[49m\u001b[43mparse_int\u001b[49m\u001b[43m,\u001b[49m\n\u001b[32m    296\u001b[39m \u001b[43m        \u001b[49m\u001b[43mparse_constant\u001b[49m\u001b[43m=\u001b[49m\u001b[43mparse_constant\u001b[49m\u001b[43m,\u001b[49m\u001b[43m \u001b[49m\u001b[43mobject_pairs_hook\u001b[49m\u001b[43m=\u001b[49m\u001b[43mobject_pairs_hook\u001b[49m\u001b[43m,\u001b[49m\u001b[43m \u001b[49m\u001b[43m*\u001b[49m\u001b[43m*\u001b[49m\u001b[43mkw\u001b[49m\u001b[43m)\u001b[49m\n",
      "\u001b[36mFile \u001b[39m\u001b[32m~/miniforge3/lib/python3.12/json/__init__.py:346\u001b[39m, in \u001b[36mloads\u001b[39m\u001b[34m(s, cls, object_hook, parse_float, parse_int, parse_constant, object_pairs_hook, **kw)\u001b[39m\n\u001b[32m    341\u001b[39m     s = s.decode(detect_encoding(s), \u001b[33m'\u001b[39m\u001b[33msurrogatepass\u001b[39m\u001b[33m'\u001b[39m)\n\u001b[32m    343\u001b[39m \u001b[38;5;28;01mif\u001b[39;00m (\u001b[38;5;28mcls\u001b[39m \u001b[38;5;129;01mis\u001b[39;00m \u001b[38;5;28;01mNone\u001b[39;00m \u001b[38;5;129;01mand\u001b[39;00m object_hook \u001b[38;5;129;01mis\u001b[39;00m \u001b[38;5;28;01mNone\u001b[39;00m \u001b[38;5;129;01mand\u001b[39;00m\n\u001b[32m    344\u001b[39m         parse_int \u001b[38;5;129;01mis\u001b[39;00m \u001b[38;5;28;01mNone\u001b[39;00m \u001b[38;5;129;01mand\u001b[39;00m parse_float \u001b[38;5;129;01mis\u001b[39;00m \u001b[38;5;28;01mNone\u001b[39;00m \u001b[38;5;129;01mand\u001b[39;00m\n\u001b[32m    345\u001b[39m         parse_constant \u001b[38;5;129;01mis\u001b[39;00m \u001b[38;5;28;01mNone\u001b[39;00m \u001b[38;5;129;01mand\u001b[39;00m object_pairs_hook \u001b[38;5;129;01mis\u001b[39;00m \u001b[38;5;28;01mNone\u001b[39;00m \u001b[38;5;129;01mand\u001b[39;00m \u001b[38;5;129;01mnot\u001b[39;00m kw):\n\u001b[32m--> \u001b[39m\u001b[32m346\u001b[39m     \u001b[38;5;28;01mreturn\u001b[39;00m \u001b[43m_default_decoder\u001b[49m\u001b[43m.\u001b[49m\u001b[43mdecode\u001b[49m\u001b[43m(\u001b[49m\u001b[43ms\u001b[49m\u001b[43m)\u001b[49m\n\u001b[32m    347\u001b[39m \u001b[38;5;28;01mif\u001b[39;00m \u001b[38;5;28mcls\u001b[39m \u001b[38;5;129;01mis\u001b[39;00m \u001b[38;5;28;01mNone\u001b[39;00m:\n\u001b[32m    348\u001b[39m     \u001b[38;5;28mcls\u001b[39m = JSONDecoder\n",
      "\u001b[36mFile \u001b[39m\u001b[32m~/miniforge3/lib/python3.12/json/decoder.py:338\u001b[39m, in \u001b[36mJSONDecoder.decode\u001b[39m\u001b[34m(self, s, _w)\u001b[39m\n\u001b[32m    333\u001b[39m \u001b[38;5;28;01mdef\u001b[39;00m\u001b[38;5;250m \u001b[39m\u001b[34mdecode\u001b[39m(\u001b[38;5;28mself\u001b[39m, s, _w=WHITESPACE.match):\n\u001b[32m    334\u001b[39m \u001b[38;5;250m    \u001b[39m\u001b[33;03m\"\"\"Return the Python representation of ``s`` (a ``str`` instance\u001b[39;00m\n\u001b[32m    335\u001b[39m \u001b[33;03m    containing a JSON document).\u001b[39;00m\n\u001b[32m    336\u001b[39m \n\u001b[32m    337\u001b[39m \u001b[33;03m    \"\"\"\u001b[39;00m\n\u001b[32m--> \u001b[39m\u001b[32m338\u001b[39m     obj, end = \u001b[38;5;28;43mself\u001b[39;49m\u001b[43m.\u001b[49m\u001b[43mraw_decode\u001b[49m\u001b[43m(\u001b[49m\u001b[43ms\u001b[49m\u001b[43m,\u001b[49m\u001b[43m \u001b[49m\u001b[43midx\u001b[49m\u001b[43m=\u001b[49m\u001b[43m_w\u001b[49m\u001b[43m(\u001b[49m\u001b[43ms\u001b[49m\u001b[43m,\u001b[49m\u001b[43m \u001b[49m\u001b[32;43m0\u001b[39;49m\u001b[43m)\u001b[49m\u001b[43m.\u001b[49m\u001b[43mend\u001b[49m\u001b[43m(\u001b[49m\u001b[43m)\u001b[49m\u001b[43m)\u001b[49m\n\u001b[32m    339\u001b[39m     end = _w(s, end).end()\n\u001b[32m    340\u001b[39m     \u001b[38;5;28;01mif\u001b[39;00m end != \u001b[38;5;28mlen\u001b[39m(s):\n",
      "\u001b[36mFile \u001b[39m\u001b[32m~/miniforge3/lib/python3.12/json/decoder.py:354\u001b[39m, in \u001b[36mJSONDecoder.raw_decode\u001b[39m\u001b[34m(self, s, idx)\u001b[39m\n\u001b[32m    345\u001b[39m \u001b[38;5;250m\u001b[39m\u001b[33;03m\"\"\"Decode a JSON document from ``s`` (a ``str`` beginning with\u001b[39;00m\n\u001b[32m    346\u001b[39m \u001b[33;03ma JSON document) and return a 2-tuple of the Python\u001b[39;00m\n\u001b[32m    347\u001b[39m \u001b[33;03mrepresentation and the index in ``s`` where the document ended.\u001b[39;00m\n\u001b[32m   (...)\u001b[39m\u001b[32m    351\u001b[39m \n\u001b[32m    352\u001b[39m \u001b[33;03m\"\"\"\u001b[39;00m\n\u001b[32m    353\u001b[39m \u001b[38;5;28;01mtry\u001b[39;00m:\n\u001b[32m--> \u001b[39m\u001b[32m354\u001b[39m     obj, end = \u001b[38;5;28;43mself\u001b[39;49m\u001b[43m.\u001b[49m\u001b[43mscan_once\u001b[49m\u001b[43m(\u001b[49m\u001b[43ms\u001b[49m\u001b[43m,\u001b[49m\u001b[43m \u001b[49m\u001b[43midx\u001b[49m\u001b[43m)\u001b[49m\n\u001b[32m    355\u001b[39m \u001b[38;5;28;01mexcept\u001b[39;00m \u001b[38;5;167;01mStopIteration\u001b[39;00m \u001b[38;5;28;01mas\u001b[39;00m err:\n\u001b[32m    356\u001b[39m     \u001b[38;5;28;01mraise\u001b[39;00m JSONDecodeError(\u001b[33m\"\u001b[39m\u001b[33mExpecting value\u001b[39m\u001b[33m\"\u001b[39m, s, err.value) \u001b[38;5;28;01mfrom\u001b[39;00m\u001b[38;5;250m \u001b[39m\u001b[38;5;28;01mNone\u001b[39;00m\n",
      "\u001b[31mJSONDecodeError\u001b[39m: Expecting ':' delimiter: line 1 column 566745 (char 566744)"
     ]
    }
   ],
   "source": [
    "\n",
    "import random\n",
    "import json\n",
    "import time\n",
    "import numpy as np\n",
    "import pandas as pd\n",
    "\n",
    "import matplotlib.pyplot as plt\n",
    "import seaborn as sns\n",
    "\n",
    "#word2vec\n",
    "import gensim\n",
    "from gensim.models import Word2Vec\n",
    "\n",
    "import torch\n",
    "from torch.utils.data import DataLoader, TensorDataset\n",
    "import torch.nn as nn\n",
    "import torch.nn.functional as F\n",
    "import torchutils as tu\n",
    "\n",
    "from sklearn.model_selection import train_test_split\n",
    "from sklearn.metrics import f1_score, confusion_matrix, accuracy_score\n",
    "from collections import Counter\n",
    "from dataclasses import dataclass\n",
    "\n",
    "from torchmetrics.classification import BinaryAccuracy, BinaryF1Score, BinaryConfusionMatrix\n",
    "\n",
    "import sys\n",
    "sys.path.append(\"../src/\")\n",
    "from ltsm_helper import tokenize_text"
   ]
  },
  {
   "cell_type": "code",
   "execution_count": 134,
   "id": "ec331745",
   "metadata": {},
   "outputs": [],
   "source": [
    "WORD_FREQ = 20\n",
    "EMBEDDING_DIM = 100\n",
    "HIDDEN_SIZE = 128\n",
    "ATTENTION_SIZE = 32\n",
    "SEQ_LEN = 128\n",
    "TEST_SIZE = 0.1\n",
    "BATCH_SIZE = 1024\n",
    "DEVICE = 'cuda'\n",
    "EPOCHS = 20"
   ]
  },
  {
   "cell_type": "code",
   "execution_count": 14,
   "id": "b7083f94",
   "metadata": {},
   "outputs": [],
   "source": [
    "@dataclass\n",
    "class ConfigRNN:\n",
    "    vocab_size: int\n",
    "    batch_size: int\n",
    "    device: str\n",
    "    n_layers: int\n",
    "    embedding_dim: int\n",
    "    hidden_size: int\n",
    "    seq_len: int\n",
    "    bidirectional: bool\n",
    "    attention_size: int\n",
    "    dropout: float\n",
    "    output: int"
   ]
  },
  {
   "cell_type": "code",
   "execution_count": 15,
   "id": "57eed489",
   "metadata": {},
   "outputs": [],
   "source": [
    "class BahdanauAttention(nn.Module):\n",
    "    def __init__(self, encoder_dim, decoder_dim):\n",
    "        super(BahdanauAttention, self).__init__()\n",
    "        # Linear layers to transform encoder outputs and decoder hidden state\n",
    "        self.W1 = nn.Linear(encoder_dim, decoder_dim)\n",
    "        self.W2 = nn.Linear(decoder_dim, decoder_dim)\n",
    "        # v is a learnable parameter vector to compute attention scores\n",
    "        self.v = nn.Linear(decoder_dim, 1, bias=False)\n",
    "\n",
    "    def forward(self,encoder_outputs, hidden):\n",
    "        # hidden: (batch_size, decoder_dim)\n",
    "        # encoder_outputs: (batch_size, seq_len, encoder_dim)\n",
    "        seq_len = encoder_outputs.size(1)\n",
    "\n",
    "        # Repeat hidden state seq_len times for addition\n",
    "        hidden_with_time_axis = hidden.unsqueeze(1).repeat(1, seq_len, 1)\n",
    "        # score shape: (batch_size, seq_len, decoder_dim)\n",
    "        score = torch.tanh(self.W1(encoder_outputs) + self.W2(hidden_with_time_axis))\n",
    "        # attention_weights shape: (batch_size, seq_len, 1)\n",
    "        attention_weights = torch.softmax(self.v(score), dim=1)\n",
    "\n",
    "        # context_vector: weighted sum of encoder outputs\n",
    "        context_vector = torch.sum(attention_weights * encoder_outputs, dim=1)\n",
    "        # attention_weights: (batch_size, seq_len)\n",
    "        return attention_weights.squeeze(-1), context_vector"
   ]
  },
  {
   "cell_type": "code",
   "execution_count": 3,
   "id": "1d0331bd",
   "metadata": {},
   "outputs": [],
   "source": [
    "df = pd.read_csv('../data/cleaned_df.csv')\n",
    "df.drop(columns=['Unnamed: 0', 'review_id'], inplace=True)"
   ]
  },
  {
   "cell_type": "code",
   "execution_count": 4,
   "id": "e029a665",
   "metadata": {},
   "outputs": [
    {
     "data": {
      "text/html": [
       "<div>\n",
       "<style scoped>\n",
       "    .dataframe tbody tr th:only-of-type {\n",
       "        vertical-align: middle;\n",
       "    }\n",
       "\n",
       "    .dataframe tbody tr th {\n",
       "        vertical-align: top;\n",
       "    }\n",
       "\n",
       "    .dataframe thead th {\n",
       "        text-align: right;\n",
       "    }\n",
       "</style>\n",
       "<table border=\"1\" class=\"dataframe\">\n",
       "  <thead>\n",
       "    <tr style=\"text-align: right;\">\n",
       "      <th></th>\n",
       "      <th>category</th>\n",
       "      <th>title</th>\n",
       "      <th>content</th>\n",
       "      <th>sentiment</th>\n",
       "      <th>source_url</th>\n",
       "      <th>clean_content</th>\n",
       "    </tr>\n",
       "  </thead>\n",
       "  <tbody>\n",
       "    <tr>\n",
       "      <th>0</th>\n",
       "      <td>Поликлиники стоматологические</td>\n",
       "      <td>Классный мастер</td>\n",
       "      <td>Огромное спасибо за чудесное удаление двух зуб...</td>\n",
       "      <td>positive</td>\n",
       "      <td>http://www.spr.ru/forum_vyvod.php?id_tema=2727539</td>\n",
       "      <td>огромный спасибо чудесный удаление зуб мудрост...</td>\n",
       "    </tr>\n",
       "    <tr>\n",
       "      <th>1</th>\n",
       "      <td>Поликлиники стоматологические</td>\n",
       "      <td>Замечательный врач</td>\n",
       "      <td>Хочу выразить особую благодарность замечательн...</td>\n",
       "      <td>positive</td>\n",
       "      <td>http://www.spr.ru/forum_vyvod.php?id_tema=2302877</td>\n",
       "      <td>хотеть выразить особый благодарность замечател...</td>\n",
       "    </tr>\n",
       "    <tr>\n",
       "      <th>2</th>\n",
       "      <td>Поликлиники стоматологические</td>\n",
       "      <td>Благодарность работникам рентгена</td>\n",
       "      <td>Добрый вечер! Хотелось бы поблагодарить сотруд...</td>\n",
       "      <td>positive</td>\n",
       "      <td>http://www.spr.ru/forum_vyvod.php?id_tema=2815031</td>\n",
       "      <td>добрый вечер хотеться поблагодарить сотрудник ...</td>\n",
       "    </tr>\n",
       "    <tr>\n",
       "      <th>3</th>\n",
       "      <td>Поликлиники стоматологические</td>\n",
       "      <td>Доктор Рабинович</td>\n",
       "      <td>Женщины советского образца в регистратуре не и...</td>\n",
       "      <td>negative</td>\n",
       "      <td>http://www.spr.ru/forum_vyvod.php?id_tema=3443161</td>\n",
       "      <td>женщина советский образец регистратура не имет...</td>\n",
       "    </tr>\n",
       "    <tr>\n",
       "      <th>4</th>\n",
       "      <td>Поликлиники стоматологические</td>\n",
       "      <td>Есть кому сказать спасибо</td>\n",
       "      <td>У меня с детства очень плохие зубы (тонкая и х...</td>\n",
       "      <td>positive</td>\n",
       "      <td>http://www.spr.ru/forum_vyvod.php?id_tema=2592430</td>\n",
       "      <td>детство очень плохой зуб тонкий хрупкий эмаль ...</td>\n",
       "    </tr>\n",
       "  </tbody>\n",
       "</table>\n",
       "</div>"
      ],
      "text/plain": [
       "                        category                              title  \\\n",
       "0  Поликлиники стоматологические                    Классный мастер   \n",
       "1  Поликлиники стоматологические                 Замечательный врач   \n",
       "2  Поликлиники стоматологические  Благодарность работникам рентгена   \n",
       "3  Поликлиники стоматологические                   Доктор Рабинович   \n",
       "4  Поликлиники стоматологические          Есть кому сказать спасибо   \n",
       "\n",
       "                                             content sentiment  \\\n",
       "0  Огромное спасибо за чудесное удаление двух зуб...  positive   \n",
       "1  Хочу выразить особую благодарность замечательн...  positive   \n",
       "2  Добрый вечер! Хотелось бы поблагодарить сотруд...  positive   \n",
       "3  Женщины советского образца в регистратуре не и...  negative   \n",
       "4  У меня с детства очень плохие зубы (тонкая и х...  positive   \n",
       "\n",
       "                                          source_url  \\\n",
       "0  http://www.spr.ru/forum_vyvod.php?id_tema=2727539   \n",
       "1  http://www.spr.ru/forum_vyvod.php?id_tema=2302877   \n",
       "2  http://www.spr.ru/forum_vyvod.php?id_tema=2815031   \n",
       "3  http://www.spr.ru/forum_vyvod.php?id_tema=3443161   \n",
       "4  http://www.spr.ru/forum_vyvod.php?id_tema=2592430   \n",
       "\n",
       "                                       clean_content  \n",
       "0  огромный спасибо чудесный удаление зуб мудрост...  \n",
       "1  хотеть выразить особый благодарность замечател...  \n",
       "2  добрый вечер хотеться поблагодарить сотрудник ...  \n",
       "3  женщина советский образец регистратура не имет...  \n",
       "4  детство очень плохой зуб тонкий хрупкий эмаль ...  "
      ]
     },
     "execution_count": 4,
     "metadata": {},
     "output_type": "execute_result"
    }
   ],
   "source": [
    "df.head()"
   ]
  },
  {
   "cell_type": "code",
   "execution_count": 5,
   "id": "62cb2e52",
   "metadata": {},
   "outputs": [
    {
     "name": "stdout",
     "output_type": "stream",
     "text": [
      "<class 'pandas.core.frame.DataFrame'>\n",
      "RangeIndex: 70597 entries, 0 to 70596\n",
      "Data columns (total 6 columns):\n",
      " #   Column         Non-Null Count  Dtype \n",
      "---  ------         --------------  ----- \n",
      " 0   category       70597 non-null  object\n",
      " 1   title          70597 non-null  object\n",
      " 2   content        70597 non-null  object\n",
      " 3   sentiment      70597 non-null  object\n",
      " 4   source_url     70597 non-null  object\n",
      " 5   clean_content  70597 non-null  object\n",
      "dtypes: object(6)\n",
      "memory usage: 3.2+ MB\n"
     ]
    }
   ],
   "source": [
    "df.info()"
   ]
  },
  {
   "cell_type": "code",
   "execution_count": 6,
   "id": "d624c4e7",
   "metadata": {},
   "outputs": [],
   "source": [
    "def get_words_by_freq(words, n):\n",
    "    return list(filter(lambda x: x[1] > n, words))"
   ]
  },
  {
   "cell_type": "code",
   "execution_count": 19,
   "id": "88c27f62",
   "metadata": {},
   "outputs": [],
   "source": [
    "def padding(reviews, seq_len):\n",
    "    features = np.zeros((len(reviews), seq_len))\n",
    "    for i, review in enumerate(reviews):\n",
    "        if len(review) <= seq_len:\n",
    "            zeros = list(np.zeros(seq_len - len(review)))\n",
    "            new = zeros + review\n",
    "        else:\n",
    "            new = review[:seq_len]\n",
    "        features[i, :] = np.array(new)\n",
    "        \n",
    "    return features"
   ]
  },
  {
   "cell_type": "code",
   "execution_count": 104,
   "id": "52f14d72",
   "metadata": {},
   "outputs": [],
   "source": [
    "def train_attention_lstm(\n",
    "    epochs: int, \n",
    "    model: torch.nn.Module, \n",
    "    train_loader: DataLoader,\n",
    "    valid_loader: DataLoader, \n",
    "    optimizer, \n",
    "    criterion, \n",
    "    metric,\n",
    "    rnn_conf = None\n",
    "    ) -> tuple: \n",
    "    \n",
    "    best_val_loss = float('inf')\n",
    "    epoch_train_losses = []\n",
    "    epoch_valid_losses = []\n",
    "    epoch_train_metric = []\n",
    "    epoch_valid_metric = []\n",
    "    time_start = time.time()\n",
    "    \n",
    "    \n",
    "    if not rnn_conf:\n",
    "        device = 'cpu'\n",
    "    else: \n",
    "        device = rnn_conf.device\n",
    "\n",
    "    for epoch in range(epochs):\n",
    "        bacth_losses = []\n",
    "        batch_metric = []\n",
    "        model.train()\n",
    "        model.to(device)\n",
    "        for inputs, labels in train_loader:\n",
    "            inputs, labels = inputs.to(torch.long).to(device), labels.to(device)   \n",
    "\n",
    "            output, _ = model(inputs)\n",
    "            loss = criterion(output, labels.float())\n",
    "            optimizer.zero_grad()\n",
    "            loss.backward()\n",
    "            optimizer.step()\n",
    "            bacth_losses.append(loss.item())\n",
    "            batch_metric.append(metric(output,labels).item())\n",
    "        epoch_train_losses.append(np.mean(bacth_losses))\n",
    "        epoch_train_metric.append(np.mean(batch_metric))\n",
    "        bacth_losses = []\n",
    "        batch_metric = []\n",
    "        model.eval()\n",
    "        for inputs, labels in valid_loader:\n",
    "            inputs, labels = inputs.to(torch.long).to(device), labels.to(device)\n",
    "            with torch.no_grad():\n",
    "                output, _ = model(inputs)\n",
    "            loss = criterion(output, labels.float())\n",
    "            bacth_losses.append(loss.item())\n",
    "            batch_metric.append(metric(output,labels).item())\n",
    "        epoch_valid_losses.append(np.mean(bacth_losses))\n",
    "        epoch_valid_metric.append(np.mean(batch_metric))\n",
    "\n",
    "\n",
    "        print(f'Epoch {epoch+1}') \n",
    "        print(f'train_loss : {epoch_train_losses[-1]:.4f} val_loss : {epoch_valid_losses[-1]:.4f}')\n",
    "        print(f'train_accuracy : {epoch_train_metric[-1]:.2f} val_accuracy : {epoch_valid_metric[-1]:.2f}')\n",
    "            \n",
    "        print(25*'==')\n",
    "        training_time = time.time() - time_start\n",
    "        \n",
    "        \n",
    "        if np.mean(bacth_losses) < best_val_loss:\n",
    "            best_val_loss = np.mean(bacth_losses)\n",
    "            torch.save(model, f'bert_best_{best_val_loss:.2f}.pt')\n",
    "            torch.save(model.state_dict(), f'bert_best_{best_val_loss:.2f}.pth')\n",
    "        \n",
    "        \n",
    "    return (epoch_train_losses, epoch_valid_losses, epoch_train_metric, epoch_valid_metric, training_time)"
   ]
  },
  {
   "cell_type": "code",
   "execution_count": 7,
   "id": "98baee97",
   "metadata": {},
   "outputs": [],
   "source": [
    "corpus = [word for text in df['clean_content'] for word in text.split()]\n",
    "sorted_words = Counter(corpus).most_common()\n",
    "sorted_words = get_words_by_freq(sorted_words, WORD_FREQ)"
   ]
  },
  {
   "cell_type": "code",
   "execution_count": 8,
   "id": "45f91624",
   "metadata": {},
   "outputs": [],
   "source": [
    "vocab2int = {w:i+1 for i, (w,c) in enumerate(sorted_words)}"
   ]
  },
  {
   "cell_type": "code",
   "execution_count": 220,
   "id": "f36e711f",
   "metadata": {},
   "outputs": [],
   "source": [
    "f = open('vocab2int.json', 'w')\n",
    "json.dump(vocab2int, f, indent=4)"
   ]
  },
  {
   "cell_type": "code",
   "execution_count": 219,
   "id": "d31ee888",
   "metadata": {},
   "outputs": [
    {
     "data": {
      "text/plain": [
       "9766"
      ]
     },
     "execution_count": 219,
     "metadata": {},
     "output_type": "execute_result"
    }
   ],
   "source": [
    "len(vocab2int)"
   ]
  },
  {
   "cell_type": "code",
   "execution_count": 9,
   "id": "511d1c19",
   "metadata": {},
   "outputs": [],
   "source": [
    "reviews_int = []\n",
    "for text in df['clean_content']:\n",
    "    r = [vocab2int[word] for word in text.split() if vocab2int.get(word)]\n",
    "    reviews_int.append(r)"
   ]
  },
  {
   "cell_type": "code",
   "execution_count": 10,
   "id": "5dd01cf3",
   "metadata": {},
   "outputs": [],
   "source": [
    "w2v_input = []\n",
    "for text in df['clean_content']:\n",
    "    filtered_text = []\n",
    "    for word in text.split():\n",
    "        if vocab2int.get(word):\n",
    "            filtered_text.append(word)\n",
    "        w2v_input.append(filtered_text)"
   ]
  },
  {
   "cell_type": "code",
   "execution_count": 11,
   "id": "2ca8f364",
   "metadata": {},
   "outputs": [],
   "source": [
    "VOCAB_SIZE = len(vocab2int) + 1"
   ]
  },
  {
   "cell_type": "code",
   "execution_count": 204,
   "id": "dc9c5026",
   "metadata": {},
   "outputs": [
    {
     "data": {
      "text/plain": [
       "9767"
      ]
     },
     "execution_count": 204,
     "metadata": {},
     "output_type": "execute_result"
    }
   ],
   "source": [
    "VOCAB_SIZE"
   ]
  },
  {
   "cell_type": "code",
   "execution_count": 12,
   "id": "89545b9a",
   "metadata": {},
   "outputs": [],
   "source": [
    "wv = Word2Vec(\n",
    "    vector_size=EMBEDDING_DIM\n",
    ")\n",
    "wv.build_vocab(w2v_input)"
   ]
  },
  {
   "cell_type": "code",
   "execution_count": 13,
   "id": "56c3b899",
   "metadata": {},
   "outputs": [
    {
     "data": {
      "text/plain": [
       "(7814460162, 8807032020)"
      ]
     },
     "execution_count": 13,
     "metadata": {},
     "output_type": "execute_result"
    }
   ],
   "source": [
    "wv.train(\n",
    "    corpus_iterable=w2v_input,\n",
    "    total_examples=wv.corpus_count,\n",
    "    epochs=EPOCHS\n",
    ")"
   ]
  },
  {
   "cell_type": "code",
   "execution_count": 169,
   "id": "fa5d5529",
   "metadata": {},
   "outputs": [],
   "source": [
    "wv.save('word2vec_model')"
   ]
  },
  {
   "cell_type": "code",
   "execution_count": 17,
   "id": "c62467ac",
   "metadata": {},
   "outputs": [],
   "source": [
    "embedding_matrix = np.zeros((VOCAB_SIZE, EMBEDDING_DIM))\n",
    "\n",
    "for word, i in vocab2int.items():\n",
    "    try:\n",
    "        embedding_vector = wv.wv[word]\n",
    "        embedding_matrix[i] = embedding_vector\n",
    "    except KeyError as e:\n",
    "        print(f'{e}: word: {word}')\n",
    "        pass\n",
    "    \n",
    "embedding_layer = nn.Embedding.from_pretrained(\n",
    "    torch.FloatTensor(embedding_matrix)\n",
    ")"
   ]
  },
  {
   "cell_type": "code",
   "execution_count": 20,
   "id": "d82eacb3",
   "metadata": {},
   "outputs": [],
   "source": [
    "padded = padding(reviews_int, seq_len=SEQ_LEN)"
   ]
  },
  {
   "cell_type": "code",
   "execution_count": null,
   "id": "c18b5383",
   "metadata": {},
   "outputs": [],
   "source": [
    "# encoder = {\n",
    "#     'negative': 0,\n",
    "#     'positive': 1\n",
    "# }\n",
    "# X, y = np.array(padded), df.loc[:,'sentiment'].map(encoder)\n",
    "# X_train, X_valid, y_train, y_valid = train_test_split(\n",
    "#     X,y, test_size=TEST_SIZE, random_state=1\n",
    "# )"
   ]
  },
  {
   "cell_type": "code",
   "execution_count": 43,
   "id": "04f6e20a",
   "metadata": {},
   "outputs": [],
   "source": [
    "X_train, X_valid, y_train, y_valid = train_test_split(\n",
    "    np.array(padded),\n",
    "    pd.get_dummies(\n",
    "        df['sentiment'],\n",
    "        drop_first=True\n",
    "    ).to_numpy().astype(int), test_size=TEST_SIZE, random_state=1\n",
    ")"
   ]
  },
  {
   "cell_type": "code",
   "execution_count": 45,
   "id": "1da1821e",
   "metadata": {},
   "outputs": [],
   "source": [
    "train_data = TensorDataset(\n",
    "    torch.from_numpy(X_train), torch.from_numpy(y_train)\n",
    ")\n",
    "valid_data = TensorDataset(\n",
    "    torch.from_numpy(X_valid), torch.from_numpy(y_valid)\n",
    ")\n",
    "train_loader = DataLoader(train_data, shuffle=True, batch_size=BATCH_SIZE)\n",
    "valid_loader = DataLoader(valid_data, shuffle=True, batch_size=BATCH_SIZE)"
   ]
  },
  {
   "cell_type": "code",
   "execution_count": 46,
   "id": "02d66808",
   "metadata": {},
   "outputs": [
    {
     "data": {
      "text/plain": [
       "torch.Size([1024, 128])"
      ]
     },
     "execution_count": 46,
     "metadata": {},
     "output_type": "execute_result"
    }
   ],
   "source": [
    "dataiter = iter(train_loader)\n",
    "x_train_batch, y_train_batch = next(dataiter)\n",
    "x_train_batch.shape"
   ]
  },
  {
   "cell_type": "code",
   "execution_count": 139,
   "id": "76e22ef9",
   "metadata": {},
   "outputs": [],
   "source": [
    "net_config = ConfigRNN(\n",
    "    vocab_size=VOCAB_SIZE,\n",
    "    batch_size=BATCH_SIZE,\n",
    "    device=DEVICE,\n",
    "    n_layers=3,\n",
    "    embedding_dim=EMBEDDING_DIM,\n",
    "    hidden_size=HIDDEN_SIZE,\n",
    "    seq_len=SEQ_LEN,\n",
    "    bidirectional=True,\n",
    "    attention_size=ATTENTION_SIZE,\n",
    "    dropout=0.4,\n",
    "    output=1\n",
    ")"
   ]
  },
  {
   "cell_type": "code",
   "execution_count": 29,
   "id": "97b2ee8b",
   "metadata": {},
   "outputs": [],
   "source": [
    "test_config = ConfigRNN(\n",
    "    vocab_size=VOCAB_SIZE,\n",
    "    batch_size=BATCH_SIZE,\n",
    "    device=DEVICE,\n",
    "    n_layers=1,\n",
    "    embedding_dim=EMBEDDING_DIM,\n",
    "    hidden_size=HIDDEN_SIZE,\n",
    "    seq_len=SEQ_LEN,\n",
    "    bidirectional=False,\n",
    "    attention_size=ATTENTION_SIZE,\n",
    "    dropout=0.0,\n",
    "    output=1\n",
    ")"
   ]
  },
  {
   "cell_type": "code",
   "execution_count": 30,
   "id": "06b62574",
   "metadata": {},
   "outputs": [],
   "source": [
    "class LSTMClassifier(nn.Module):\n",
    "    def __init__(\n",
    "        self,\n",
    "        config=net_config\n",
    "    ):\n",
    "        super(LSTMClassifier, self).__init__()\n",
    "        self.embedding = embedding_layer\n",
    "        self.hidden_size = config.hidden_size\n",
    "        self.n_layers = config.n_layers\n",
    "        self.bidirectional = config.bidirectional\n",
    "        self.num_directions = 2 if config.bidirectional else 1\n",
    "\n",
    "        # LSTM layer\n",
    "        self.lstm = nn.LSTM(\n",
    "            config.embedding_dim,\n",
    "            config.hidden_size,\n",
    "            num_layers=config.n_layers,\n",
    "            bidirectional=config.bidirectional,\n",
    "            batch_first=True,\n",
    "            dropout=config.dropout if config.n_layers > 1 else 0,\n",
    "        )\n",
    "\n",
    "        # Attention layer\n",
    "        self.attention = BahdanauAttention(\n",
    "            encoder_dim=config.hidden_size * self.num_directions,\n",
    "            decoder_dim=config.hidden_size * self.num_directions,\n",
    "        )\n",
    "\n",
    "        # Final fully connected layer for classification\n",
    "        self.fc = nn.Linear(config.hidden_size * self.num_directions, config.output)\n",
    "        self.dropout = nn.Dropout(config.dropout)\n",
    "\n",
    "    def forward(self, input_sequences, lengths=None):\n",
    "        # input_sequences: (batch_size, seq_len)\n",
    "        # lengths: list or tensor of actual sequence lengths (for packing)\n",
    "        embedded = self.embedding(input_sequences)\n",
    "        embedded = self.dropout(embedded)\n",
    "\n",
    "        # Pack sequences if lengths provided\n",
    "        if lengths is not None:\n",
    "            packed = nn.utils.rnn.pack_padded_sequence(\n",
    "                embedded, lengths.cpu(), batch_first=True, enforce_sorted=False\n",
    "            )\n",
    "            packed_outputs, (hidden, cell) = self.lstm(packed)\n",
    "            # Unpack\n",
    "            encoder_outputs, _ = nn.utils.rnn.pad_packed_sequence(\n",
    "                packed_outputs, batch_first=True\n",
    "            )\n",
    "        else:\n",
    "            encoder_outputs, (hidden, cell) = self.lstm(embedded)\n",
    "\n",
    "        # Concatenate the final forward and backward hidden states\n",
    "        if self.bidirectional:\n",
    "            # hidden: (num_layers*2, batch, hidden_size)\n",
    "            forward_hidden = hidden[-2]\n",
    "            backward_hidden = hidden[-1]\n",
    "            final_hidden = torch.cat((forward_hidden, backward_hidden), dim=1)\n",
    "        else:\n",
    "            final_hidden = hidden[-1]\n",
    "\n",
    "        # Apply Bahdanau attention\n",
    "        attn_weights, context_vector = self.attention(\n",
    "            encoder_outputs, final_hidden\n",
    "        )\n",
    "\n",
    "        # Classifier\n",
    "        logits = self.fc(self.dropout(context_vector))\n",
    "        return logits, attn_weights"
   ]
  },
  {
   "cell_type": "code",
   "execution_count": 135,
   "id": "9741e76c",
   "metadata": {},
   "outputs": [
    {
     "name": "stdout",
     "output_type": "stream",
     "text": [
      "==============================================================\n",
      "Layer     Kernel          Output        Params           FLOPs\n",
      "==============================================================\n",
      "0_W1    [128, 128]   [1024, 128, 128]   16,512   4,278,190,080\n",
      "1_W2    [128, 128]   [1024, 128, 128]   16,512   4,278,190,080\n",
      "2_v       [128, 1]     [1024, 128, 1]      128      33,423,360\n",
      "==============================================================\n",
      "Total params: 33,152\n",
      "Trainable params: 33,152\n",
      "Non-trainable params: 0\n",
      "Total FLOPs: 8,589,803,520 / 8.59 GFLOPs\n",
      "--------------------------------------------------------------\n",
      "Input size (MB): 64.50\n",
      "Forward/backward pass size (MB): 257.00\n",
      "Params size (MB): 0.13\n",
      "Estimated Total Size (MB): 321.63\n",
      "==============================================================\n"
     ]
    }
   ],
   "source": [
    "attention = BahdanauAttention(test_config.hidden_size, test_config.hidden_size)\n",
    "tu.get_model_summary(attention, torch.randn(BATCH_SIZE, SEQ_LEN, HIDDEN_SIZE), torch.randn(BATCH_SIZE, HIDDEN_SIZE))"
   ]
  },
  {
   "cell_type": "code",
   "execution_count": 136,
   "id": "38119570",
   "metadata": {},
   "outputs": [
    {
     "name": "stdout",
     "output_type": "stream",
     "text": [
      "====================================================================================\n",
      "Layer                     Kernel           Output         Params               FLOPs\n",
      "====================================================================================\n",
      "0_embedding             [100, 9767]   [1024, 128, 100]     976,700           131,072\n",
      "1_dropout                         -   [1024, 128, 100]           0                 0\n",
      "2_lstm                            -   [1024, 128, 256]   1,026,048   782,959,116,288\n",
      "3_attention.Linear_W1    [256, 256]   [1024, 128, 256]      65,792    17,146,314,752\n",
      "4_attention.Linear_W2    [256, 256]   [1024, 128, 256]      65,792    17,146,314,752\n",
      "5_attention.Linear_v       [256, 1]     [1024, 128, 1]         256        66,977,792\n",
      "6_dropout                         -        [1024, 256]           0                 0\n",
      "7_fc                       [256, 1]          [1024, 1]         257           523,264\n",
      "====================================================================================\n",
      "Total params: 2,134,845\n",
      "Trainable params: 1,158,145\n",
      "Non-trainable params: 976,700\n",
      "Total FLOPs: 817,319,377,920 / 817.32 GFLOPs\n",
      "------------------------------------------------------------------------------------\n",
      "Input size (MB): 1.00\n",
      "Forward/backward pass size (MB): 971.01\n",
      "Params size (MB): 8.14\n",
      "Estimated Total Size (MB): 980.15\n",
      "====================================================================================\n"
     ]
    }
   ],
   "source": [
    "model_concat = LSTMClassifier().to(DEVICE)\n",
    "tu.get_model_summary(model_concat, x_train_batch.to(torch.long).to(DEVICE))"
   ]
  },
  {
   "cell_type": "code",
   "execution_count": null,
   "id": "62c116a3",
   "metadata": {},
   "outputs": [],
   "source": [
    "criterion = nn.BCEWithLogitsLoss()\n",
    "optimizer_concat = torch.optim.Adam(model_concat.parameters(), lr=1e-3)\n",
    "metric = BinaryAccuracy().to(DEVICE)"
   ]
  },
  {
   "cell_type": "code",
   "execution_count": 138,
   "id": "4945e737",
   "metadata": {},
   "outputs": [
    {
     "name": "stdout",
     "output_type": "stream",
     "text": [
      "Epoch 1\n",
      "train_loss : 0.3552 val_loss : 0.1948\n",
      "train_accuracy : 0.85 val_accuracy : 0.93\n",
      "==================================================\n",
      "Epoch 2\n",
      "train_loss : 0.1933 val_loss : 0.2108\n",
      "train_accuracy : 0.93 val_accuracy : 0.92\n",
      "==================================================\n",
      "Epoch 3\n",
      "train_loss : 0.1735 val_loss : 0.1747\n",
      "train_accuracy : 0.93 val_accuracy : 0.93\n",
      "==================================================\n",
      "Epoch 4\n",
      "train_loss : 0.1657 val_loss : 0.2112\n",
      "train_accuracy : 0.94 val_accuracy : 0.92\n",
      "==================================================\n",
      "Epoch 5\n",
      "train_loss : 0.1576 val_loss : 0.1601\n",
      "train_accuracy : 0.94 val_accuracy : 0.94\n",
      "==================================================\n",
      "Epoch 6\n",
      "train_loss : 0.1517 val_loss : 0.1496\n",
      "train_accuracy : 0.94 val_accuracy : 0.94\n",
      "==================================================\n",
      "Epoch 7\n",
      "train_loss : 0.1465 val_loss : 0.1553\n",
      "train_accuracy : 0.95 val_accuracy : 0.94\n",
      "==================================================\n",
      "Epoch 8\n",
      "train_loss : 0.1391 val_loss : 0.2527\n",
      "train_accuracy : 0.95 val_accuracy : 0.90\n",
      "==================================================\n",
      "Epoch 9\n",
      "train_loss : 0.1415 val_loss : 0.1606\n",
      "train_accuracy : 0.95 val_accuracy : 0.94\n",
      "==================================================\n",
      "Epoch 10\n",
      "train_loss : 0.1323 val_loss : 0.1851\n",
      "train_accuracy : 0.95 val_accuracy : 0.93\n",
      "==================================================\n",
      "Epoch 11\n",
      "train_loss : 0.1288 val_loss : 0.1548\n",
      "train_accuracy : 0.95 val_accuracy : 0.94\n",
      "==================================================\n",
      "Epoch 12\n",
      "train_loss : 0.1267 val_loss : 0.1767\n",
      "train_accuracy : 0.95 val_accuracy : 0.94\n",
      "==================================================\n",
      "Epoch 13\n",
      "train_loss : 0.1231 val_loss : 0.1486\n",
      "train_accuracy : 0.96 val_accuracy : 0.95\n",
      "==================================================\n",
      "Epoch 14\n",
      "train_loss : 0.1220 val_loss : 0.1464\n",
      "train_accuracy : 0.96 val_accuracy : 0.95\n",
      "==================================================\n",
      "Epoch 15\n",
      "train_loss : 0.1152 val_loss : 0.1661\n",
      "train_accuracy : 0.96 val_accuracy : 0.94\n",
      "==================================================\n",
      "Epoch 16\n",
      "train_loss : 0.1122 val_loss : 0.1544\n",
      "train_accuracy : 0.96 val_accuracy : 0.95\n",
      "==================================================\n",
      "Epoch 17\n",
      "train_loss : 0.1119 val_loss : 0.1616\n",
      "train_accuracy : 0.96 val_accuracy : 0.94\n",
      "==================================================\n",
      "Epoch 18\n",
      "train_loss : 0.1091 val_loss : 0.1501\n",
      "train_accuracy : 0.96 val_accuracy : 0.95\n",
      "==================================================\n",
      "Epoch 19\n",
      "train_loss : 0.1047 val_loss : 0.1596\n",
      "train_accuracy : 0.96 val_accuracy : 0.95\n",
      "==================================================\n",
      "Epoch 20\n",
      "train_loss : 0.1024 val_loss : 0.1560\n",
      "train_accuracy : 0.96 val_accuracy : 0.95\n",
      "==================================================\n"
     ]
    }
   ],
   "source": [
    "train_losses, val_losses, train_metric, val_metric, rnn_time = train_attention_lstm(\n",
    "    EPOCHS, model_concat, train_loader, valid_loader, optimizer_concat, criterion, metric\n",
    ")"
   ]
  },
  {
   "cell_type": "code",
   "execution_count": null,
   "id": "88817926",
   "metadata": {},
   "outputs": [],
   "source": [
    "# torch.save(model_concat, 'lstm_best.pt')\n",
    "# torch.save(model_concat.state_dict(), 'lstm_best:.pth')"
   ]
  },
  {
   "cell_type": "code",
   "execution_count": 140,
   "id": "0edeecdb",
   "metadata": {},
   "outputs": [
    {
     "data": {
      "text/plain": [
       "<All keys matched successfully>"
      ]
     },
     "execution_count": 140,
     "metadata": {},
     "output_type": "execute_result"
    }
   ],
   "source": [
    "model_concat.load_state_dict(torch.load('bert_best_0.15.pth'))\n",
    "model_concat.to(DEVICE)"
   ]
  },
  {
   "cell_type": "code",
   "execution_count": 164,
   "id": "68f996b9",
   "metadata": {},
   "outputs": [
    {
     "data": {
      "text/plain": [
       "LSTMClassifier(\n",
       "  (embedding): Embedding(9767, 100)\n",
       "  (lstm): LSTM(100, 128, num_layers=3, batch_first=True, dropout=0.2, bidirectional=True)\n",
       "  (attention): BahdanauAttention(\n",
       "    (W1): Linear(in_features=256, out_features=256, bias=True)\n",
       "    (W2): Linear(in_features=256, out_features=256, bias=True)\n",
       "    (v): Linear(in_features=256, out_features=1, bias=False)\n",
       "  )\n",
       "  (fc): Linear(in_features=256, out_features=1, bias=True)\n",
       "  (dropout): Dropout(p=0.2, inplace=False)\n",
       ")"
      ]
     },
     "execution_count": 164,
     "metadata": {},
     "output_type": "execute_result"
    }
   ],
   "source": [
    "model_concat"
   ]
  },
  {
   "cell_type": "code",
   "execution_count": 165,
   "id": "f34b2091",
   "metadata": {},
   "outputs": [
    {
     "ename": "RuntimeError",
     "evalue": "strides() called on an undefined Tensor",
     "output_type": "error",
     "traceback": [
      "\u001b[31m---------------------------------------------------------------------------\u001b[39m",
      "\u001b[31mRuntimeError\u001b[39m                              Traceback (most recent call last)",
      "\u001b[36mCell\u001b[39m\u001b[36m \u001b[39m\u001b[32mIn[165]\u001b[39m\u001b[32m, line 4\u001b[39m\n\u001b[32m      1\u001b[39m model_concat.eval()\n\u001b[32m      3\u001b[39m scripted = torch.jit.script(model_concat)\n\u001b[32m----> \u001b[39m\u001b[32m4\u001b[39m \u001b[43mtorch\u001b[49m\u001b[43m.\u001b[49m\u001b[43mjit\u001b[49m\u001b[43m.\u001b[49m\u001b[43msave\u001b[49m\u001b[43m(\u001b[49m\u001b[43mscripted\u001b[49m\u001b[43m,\u001b[49m\u001b[43m \u001b[49m\u001b[33;43m'\u001b[39;49m\u001b[33;43mscript_lstm.pt\u001b[39;49m\u001b[33;43m'\u001b[39;49m\u001b[43m)\u001b[49m\n",
      "\u001b[36mFile \u001b[39m\u001b[32m~/bootcamp/ds-phase-2/nlp-project/.venv/lib/python3.12/site-packages/torch/jit/_serialization.py:84\u001b[39m, in \u001b[36msave\u001b[39m\u001b[34m(m, f, _extra_files)\u001b[39m\n\u001b[32m     82\u001b[39m     _extra_files = {}\n\u001b[32m     83\u001b[39m \u001b[38;5;28;01mif\u001b[39;00m \u001b[38;5;28misinstance\u001b[39m(f, (\u001b[38;5;28mstr\u001b[39m, os.PathLike)):\n\u001b[32m---> \u001b[39m\u001b[32m84\u001b[39m     \u001b[43mm\u001b[49m\u001b[43m.\u001b[49m\u001b[43msave\u001b[49m\u001b[43m(\u001b[49m\u001b[43mf\u001b[49m\u001b[43m,\u001b[49m\u001b[43m \u001b[49m\u001b[43m_extra_files\u001b[49m\u001b[43m=\u001b[49m\u001b[43m_extra_files\u001b[49m\u001b[43m)\u001b[49m\n\u001b[32m     85\u001b[39m \u001b[38;5;28;01melse\u001b[39;00m:\n\u001b[32m     86\u001b[39m     ret = m.save_to_buffer(_extra_files=_extra_files)\n",
      "\u001b[36mFile \u001b[39m\u001b[32m~/bootcamp/ds-phase-2/nlp-project/.venv/lib/python3.12/site-packages/torch/jit/_script.py:757\u001b[39m, in \u001b[36mRecursiveScriptModule.save\u001b[39m\u001b[34m(self, f, **kwargs)\u001b[39m\n\u001b[32m    748\u001b[39m \u001b[38;5;28;01mdef\u001b[39;00m\u001b[38;5;250m \u001b[39m\u001b[34msave\u001b[39m(\u001b[38;5;28mself\u001b[39m, f, **kwargs):\n\u001b[32m    749\u001b[39m \u001b[38;5;250m    \u001b[39m\u001b[33mr\u001b[39m\u001b[33;03m\"\"\"Save with a file-like object.\u001b[39;00m\n\u001b[32m    750\u001b[39m \n\u001b[32m    751\u001b[39m \u001b[33;03m    save(f, _extra_files={})\u001b[39;00m\n\u001b[32m   (...)\u001b[39m\u001b[32m    755\u001b[39m \u001b[33;03m    DO NOT confuse these two functions when it comes to the 'f' parameter functionality.\u001b[39;00m\n\u001b[32m    756\u001b[39m \u001b[33;03m    \"\"\"\u001b[39;00m\n\u001b[32m--> \u001b[39m\u001b[32m757\u001b[39m     \u001b[38;5;28;01mreturn\u001b[39;00m \u001b[38;5;28;43mself\u001b[39;49m\u001b[43m.\u001b[49m\u001b[43m_c\u001b[49m\u001b[43m.\u001b[49m\u001b[43msave\u001b[49m\u001b[43m(\u001b[49m\u001b[38;5;28;43mstr\u001b[39;49m\u001b[43m(\u001b[49m\u001b[43mf\u001b[49m\u001b[43m)\u001b[49m\u001b[43m,\u001b[49m\u001b[43m \u001b[49m\u001b[43m*\u001b[49m\u001b[43m*\u001b[49m\u001b[43mkwargs\u001b[49m\u001b[43m)\u001b[49m\n",
      "\u001b[31mRuntimeError\u001b[39m: strides() called on an undefined Tensor"
     ]
    }
   ],
   "source": [
    "model_concat.eval()\n",
    "\n",
    "scripted = torch.jit.script(model_concat)\n",
    "torch.jit.save(scripted, 'script_lstm.pt')"
   ]
  },
  {
   "cell_type": "code",
   "execution_count": null,
   "id": "dc089c1a",
   "metadata": {},
   "outputs": [],
   "source": []
  },
  {
   "cell_type": "code",
   "execution_count": 145,
   "id": "8a61fd25",
   "metadata": {},
   "outputs": [],
   "source": [
    "def sigmoid(x):\n",
    "    return 1 / (1 + np.exp(-x))"
   ]
  },
  {
   "cell_type": "code",
   "execution_count": 196,
   "id": "811e57a0",
   "metadata": {},
   "outputs": [],
   "source": [
    "acc = []\n",
    "f1 = []\n",
    "conf = []\n",
    "\n",
    "metric_acc = BinaryAccuracy().to(DEVICE)\n",
    "metric_f1 = BinaryF1Score().to(DEVICE)\n",
    "metric_conf = BinaryConfusionMatrix().to(DEVICE)\n",
    "\n",
    "\n",
    "for inputs, labels in valid_loader:\n",
    "    inputs, labels = inputs.to(torch.long).to(DEVICE), labels.to(DEVICE)     \n",
    "    with torch.inference_mode():\n",
    "        output, _ = model_concat(inputs)\n",
    "        acc.append(metric_acc(output,labels).item())\n",
    "        f1.append(metric_f1(output,labels).item())\n",
    "        conf.append(metric_conf(output,labels))"
   ]
  },
  {
   "cell_type": "code",
   "execution_count": 197,
   "id": "ff65cd65",
   "metadata": {},
   "outputs": [
    {
     "data": {
      "text/plain": [
       "(0.9448546086038861, 0.9521312117576599)"
      ]
     },
     "execution_count": 197,
     "metadata": {},
     "output_type": "execute_result"
    }
   ],
   "source": [
    "np.mean(acc), np.mean(f1)"
   ]
  },
  {
   "cell_type": "code",
   "execution_count": 198,
   "id": "4f115114",
   "metadata": {},
   "outputs": [
    {
     "data": {
      "text/plain": [
       "14"
      ]
     },
     "execution_count": 198,
     "metadata": {},
     "output_type": "execute_result"
    }
   ],
   "source": [
    "conf = [t.cpu() for t in conf]\n",
    "conf = np.array(conf)\n",
    "conf"
   ]
  },
  {
   "cell_type": "code",
   "execution_count": 201,
   "id": "9eb5f0e3",
   "metadata": {},
   "outputs": [
    {
     "data": {
      "text/plain": [
       "array([[400,  18],\n",
       "       [ 37, 553]])"
      ]
     },
     "execution_count": 201,
     "metadata": {},
     "output_type": "execute_result"
    }
   ],
   "source": [
    "conf = np.mean(conf, axis=0)\n",
    "conf = np.round(conf).astype(int)\n",
    "conf"
   ]
  },
  {
   "cell_type": "code",
   "execution_count": 202,
   "id": "717d6ac3",
   "metadata": {},
   "outputs": [],
   "source": [
    "decoder = {\n",
    "    0: 'negative',\n",
    "    1: 'positive'\n",
    "}\n"
   ]
  },
  {
   "cell_type": "code",
   "execution_count": 203,
   "id": "b4ced9b7",
   "metadata": {},
   "outputs": [
    {
     "data": {
      "text/plain": [
       "<Axes: >"
      ]
     },
     "execution_count": 203,
     "metadata": {},
     "output_type": "execute_result"
    },
    {
     "data": {
      "image/png": "[encoded data removed]",
      "text/plain": [
       "<Figure size 640x480 with 2 Axes>"
      ]
     },
     "metadata": {},
     "output_type": "display_data"
    }
   ],
   "source": [
    "class_labels = [decoder[i] for i in sorted(decoder.keys())]\n",
    "\n",
    "sns.heatmap(conf, annot=True, fmt='d', cmap='Blues',\n",
    "                xticklabels=class_labels, yticklabels=class_labels)"
   ]
  },
  {
   "cell_type": "code",
   "execution_count": 160,
   "id": "3df423dd",
   "metadata": {},
   "outputs": [
    {
     "data": {
      "text/plain": [
       "array([0, 0, 0, ..., 0, 0, 0])"
      ]
     },
     "execution_count": 160,
     "metadata": {},
     "output_type": "execute_result"
    }
   ],
   "source": [
    "preds = np.where(np.array(preds) > 0.5, 1, 0)\n",
    "preds"
   ]
  },
  {
   "cell_type": "code",
   "execution_count": 162,
   "id": "95142dd2",
   "metadata": {},
   "outputs": [
    {
     "data": {
      "text/plain": [
       "0.49178470254957507"
      ]
     },
     "execution_count": 162,
     "metadata": {},
     "output_type": "execute_result"
    }
   ],
   "source": [
    "accuracy_score(y_valid, preds)"
   ]
  },
  {
   "cell_type": "code",
   "execution_count": null,
   "id": "783ba45f",
   "metadata": {},
   "outputs": [],
   "source": []
  },
  {
   "cell_type": "code",
   "execution_count": 155,
   "id": "5d21b57f",
   "metadata": {},
   "outputs": [
    {
     "data": {
      "image/png": "[encoded data removed]",
      "text/plain": [
       "<Figure size 1600x800 with 3 Axes>"
      ]
     },
     "metadata": {},
     "output_type": "display_data"
    }
   ],
   "source": [
    "models = {\n",
    "    \"LSTM (fine-tune)\": model_concat,\n",
    "}\n",
    "\n",
    "# Prepare plots\n",
    "fig, axes = plt.subplots(1, 2, figsize=(16, 8))\n",
    "axes = axes.ravel()\n",
    "\n",
    "# Class labels (human-readable)\n",
    "class_labels = [decoder[i] for i in sorted(decoder.keys())]\n",
    "\n",
    "for idx, (name, model) in enumerate(models.items()):\n",
    "    # Predict class labels\n",
    "    y_test = y_valid\n",
    "    y_pred = preds\n",
    "\n",
    "    # Compute macro F1-score and per-class F1\n",
    "    f1 = f1_score(y_test, y_pred, average='macro')\n",
    "    f1_per_class = f1_score(y_test, y_pred, average=None)\n",
    "\n",
    "    # Bar chart for per-class F1-scores\n",
    "    axes[idx].bar(np.arange(len(f1_per_class)), f1_per_class, tick_label=class_labels)\n",
    "    axes[idx].set_title(f'{name} - F1 Score per Class\\n(Macro Avg F1: {f1:.2f})')\n",
    "    axes[idx].set_xlabel('Class')\n",
    "    axes[idx].set_ylabel('F1 Score')\n",
    "    axes[idx].set_ylim(0, 1)\n",
    "    axes[idx].tick_params(axis='x', rotation=90)\n",
    "    axes[idx].grid(True)\n",
    "\n",
    "    # Confusion matrix\n",
    "    cm = confusion_matrix(y_test, y_pred)\n",
    "    sns.heatmap(cm, annot=True, fmt='d', cmap='Blues', ax=axes[idx + 1],\n",
    "                xticklabels=class_labels, yticklabels=class_labels)\n",
    "    axes[idx + 1].set_title(f'{name} - Confusion Matrix')\n",
    "    axes[idx + 1].set_xlabel('Predicted')\n",
    "    axes[idx + 1].set_ylabel('True')\n",
    "    axes[idx + 1].tick_params(axis='x', rotation=45)\n",
    "    axes[idx + 1].tick_params(axis='y', rotation=0)\n",
    "\n",
    "plt.tight_layout()\n",
    "plt.show()"
   ]
  },
  {
   "cell_type": "code",
   "execution_count": 87,
   "id": "b01c6b12",
   "metadata": {},
   "outputs": [
    {
     "data": {
      "text/plain": [
       "array([1, 0, 1, ..., 0, 0, 0])"
      ]
     },
     "execution_count": 87,
     "metadata": {},
     "output_type": "execute_result"
    }
   ],
   "source": [
    "probs"
   ]
  },
  {
   "cell_type": "code",
   "execution_count": 206,
   "id": "5fc926e5",
   "metadata": {},
   "outputs": [
    {
     "data": {
      "text/plain": [
       "LSTMClassifier(\n",
       "  (embedding): Embedding(9767, 100)\n",
       "  (lstm): LSTM(100, 128, num_layers=3, batch_first=True, dropout=0.2, bidirectional=True)\n",
       "  (attention): BahdanauAttention(\n",
       "    (W1): Linear(in_features=256, out_features=256, bias=True)\n",
       "    (W2): Linear(in_features=256, out_features=256, bias=True)\n",
       "    (v): Linear(in_features=256, out_features=1, bias=False)\n",
       "  )\n",
       "  (fc): Linear(in_features=256, out_features=1, bias=True)\n",
       "  (dropout): Dropout(p=0.2, inplace=False)\n",
       ")"
      ]
     },
     "execution_count": 206,
     "metadata": {},
     "output_type": "execute_result"
    }
   ],
   "source": [
    "loaded_model = torch.load(\"bert_best_0.15.pt\", map_location=DEVICE, weights_only=False)\n",
    "loaded_model.eval()"
   ]
  },
  {
   "cell_type": "code",
   "execution_count": 211,
   "id": "489d3890",
   "metadata": {},
   "outputs": [
    {
     "data": {
      "text/plain": [
       "'огромный спасибо чудесный удаление зуб мудрость мгновение доктор матвеев профессионал большой буква бояться страшно весь занять реально секунда согласиться удаление сразу второй зуб боль страх очень рекомендовать'"
      ]
     },
     "execution_count": 211,
     "metadata": {},
     "output_type": "execute_result"
    }
   ],
   "source": [
    "df['clean_content'][0]"
   ]
  },
  {
   "cell_type": "code",
   "execution_count": null,
   "id": "0980169a",
   "metadata": {},
   "outputs": [],
   "source": []
  }
 ],
 "metadata": {
  "kernelspec": {
   "display_name": ".venv",
   "language": "python",
   "name": "python3"
  },
  "language_info": {
   "codemirror_mode": {
    "name": "ipython",
    "version": 3
   },
   "file_extension": ".py",
   "mimetype": "text/x-python",
   "name": "python",
   "nbconvert_exporter": "python",
   "pygments_lexer": "ipython3",
   "version": "3.13.3"
  }
 },
 "nbformat": 4,
 "nbformat_minor": 5
}
